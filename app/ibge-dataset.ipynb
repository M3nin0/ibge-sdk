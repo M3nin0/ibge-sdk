{
 "cells": [
  {
   "cell_type": "markdown",
   "metadata": {},
   "source": [
    "## IBGE SDK\n",
    "\n",
    "Aquisição e organização dos dados do IBGE"
   ]
  },
  {
   "cell_type": "code",
   "execution_count": 1,
   "metadata": {},
   "outputs": [],
   "source": [
    "import pandas as pd\n",
    "from model.ibge import IBGE\n",
    "from model.toolbox import ToolBox"
   ]
  },
  {
   "cell_type": "markdown",
   "metadata": {},
   "source": [
    "## Recuperando dados - Estatística\n",
    "\n",
    "Recuperando os dados de estatística"
   ]
  },
  {
   "cell_type": "code",
   "execution_count": 2,
   "metadata": {
    "collapsed": true
   },
   "outputs": [],
   "source": [
    "dataframe = ToolBox.get_dataframe('estatistica')"
   ]
  },
  {
   "cell_type": "markdown",
   "metadata": {},
   "source": [
    "## Inicializa o SDK IBGE\n",
    "\n",
    "Nesta há interface para organizar os dados disponíveis na API do IBGE"
   ]
  },
  {
   "cell_type": "code",
   "execution_count": 3,
   "metadata": {
    "collapsed": true
   },
   "outputs": [],
   "source": [
    "ibge = IBGE(dataframe)"
   ]
  },
  {
   "cell_type": "markdown",
   "metadata": {},
   "source": [
    "## Salvando os dados - SQLite\n",
    "\n",
    "Gera os links de cada uma das páginas de estatística"
   ]
  },
  {
   "cell_type": "code",
   "execution_count": 4,
   "metadata": {},
   "outputs": [],
   "source": [
    "ToolBox.save_sqlite(pd.DataFrame(ibge.gerar_links_estatistica()), './' , 'ibge_estatistica.db', 'links_estatistica')"
   ]
  },
  {
   "cell_type": "markdown",
   "metadata": {},
   "source": [
    "## Salvando os dados - CSV"
   ]
  },
  {
   "cell_type": "code",
   "execution_count": 5,
   "metadata": {},
   "outputs": [],
   "source": [
    "pd.DataFrame(ibge.gerar_links_estatistica()).to_csv('ibge_estatistica.csv')"
   ]
  },
  {
   "cell_type": "markdown",
   "metadata": {},
   "source": [
    "## Recuperando dados - Geociências\n",
    "\n",
    "Recuperando os dados de geociências"
   ]
  },
  {
   "cell_type": "code",
   "execution_count": 6,
   "metadata": {
    "collapsed": true
   },
   "outputs": [],
   "source": [
    "dataframe = ToolBox.get_dataframe('geociencias')"
   ]
  },
  {
   "cell_type": "code",
   "execution_count": 7,
   "metadata": {},
   "outputs": [],
   "source": [
    "# Inicializa SDK\n",
    "ibge = IBGE(dataframe)"
   ]
  },
  {
   "cell_type": "markdown",
   "metadata": {},
   "source": [
    "## Salvando os dados - SQLite\n",
    "\n",
    "Gera os links de cada uma das páginas de geociências"
   ]
  },
  {
   "cell_type": "code",
   "execution_count": 8,
   "metadata": {},
   "outputs": [
    {
     "name": "stdout",
     "output_type": "stream",
     "text": [
      "-a-geografia-da-cana-de-acucar\n",
      "-a-geografia-do-cafe\n",
      "np-aglomerados-subnormais\n",
      "naturais/np-geologia/np-amazonia-legal\n",
      "mbientais/np-estudos-integrados/np-area-de-aplicacao-da-lei-n-11-428-de-2006\n",
      "areas-dos-municipios\n",
      "np-areas-urbanizadas\n",
      "jos-populacionais-e-concentracoes-urbanas-do-brasil\n",
      "sileiras-brasil-meridional\n",
      "\n",
      "\n",
      "\n",
      "o-brasil\n",
      "\n",
      "\n",
      "\n",
      "np-avaliacao-planialtimetrica-estudos-de-caso\n",
      "to-geodesico/np-banco-de-dados-geodesicos\n",
      "\n",
      "\n",
      "mbientais/np-estudos-integrados/np-biomas\n",
      "-brasil-uma-visao-geografica-e-ambiental-no-inicio-do-seculo-xxi\n",
      "np-caracteristicas-urbanisticas-do-entorno-dos-domicilios-2010\n",
      "\n",
      "e-ibge\n",
      "np-classificacao-e-caracterizacao-dos-espacos-rurais-e-urbanos-do-brasil\n",
      "naturais/np-climatologia/np-clima\n",
      "-e-uso-da-terra/np-mapeamento-de-cobertura-e-uso-da-terra/np-cobertura-e-uso-da-terra\n",
      "-e-uso-da-terra/np-mapeamento-de-cobertura-e-uso-da-terra/np-cobertura-e-uso-da-terra-do-brasil\n",
      "-e-uso-da-terra/np-mapeamento-de-cobertura-e-uso-da-terra/np-cobertura-e-uso-da-terra-no-estado-de-ro-rr-se-ac-ap-am-ma-mt-pa-rj-e-rs\n",
      "np-curso-de-cartografia-moderna\n",
      "emografica\n",
      "emografica-e-rede-coletora-de-esgoto\n",
      "np-dez-anos-de-monitoramento-do-nivel-do-mar-no-ibge\n",
      "mbientais/np-estudos-integrados/np-diagnosticos-ambientais\n",
      "-dicionario-cartografico\n",
      "-dicionario-geologico-geomorfologico\n",
      "o-da-producao-agropecuaria-na-vegetacao-natural\n",
      "o-dos-estabelecimentos-rurais\n",
      "o-espacial-da-atividade-canavieira-nos-biomas-brasileiros\n",
      "o-espacial-da-populacao-em-2010\n",
      "o-espacial-da-populacao-segundo-cor-ou-raca-pretos-e-pardos\n",
      "o-espacial-da-soja-nos-biomas-brasileiros\n",
      "gional\n",
      "s-do-brasil\n",
      "o-preliminar-da-divisao-do-brasil-em-espacos-homogeneos-e-espacos-polarizados\n",
      "np-esclarecimento-sobre-a-relacao-entre-o-datum-vertical-do-sgb-imbituba-e-santana-e-os-niveis-de-reducao-e-zeros-hidrograficos-no-litoral-brasileiro\n",
      "ormas-gerais-para-levantamentos-geodesicos-em-territorio-brasileiro\n",
      "normas-gerais-para-levantamentos-gps-versao-preliminar\n",
      "mbientais/np-estudos-integrados/np-estudos-e-pesquisas-em-geociencias\n",
      "np-expedicao-ao-jalapao\n",
      "naturais/np-biodiversidade/np-fauna-ameacada-de-extincao\n",
      "naturais/np-geologia/np-folhas-da-carta-internacional-do-mundo-ao-milionesimo\n",
      "\n",
      "cola-amazonia-legal\n",
      "np-geodesia-por-satelites-no-ibge-resultados-preliminares-das-atividades-desenvolvidas\n",
      "naturais/np-geologia/np-geologia-1-250-000\n",
      "naturais/np-geologia/np-geologia-do-estado-ro-rr-to-ac-am-ap-ma-mt-e-pa\n",
      "naturais/np-geomorfologia/np-geomorfologia\n",
      "naturais/np-geomorfologia/np-geomorfologia-do-estado-de-ro-rr-to-ac-am-ma-mt-e-pa\n",
      "s/np-gestao-do-territorio\n",
      "-glossario-dos-termos-genericos-dos-nomes-geograficos-utilizados-no-mapeamento-sistematico-do-brasil\n",
      "naturais/np-geologia/np-hidrogeologia\n",
      "ogicoe-hidrogeologico-do-estado-da-pb-e-rn\n",
      "naturais/np-geologia/np-hidroquimica\n",
      "\n",
      "\n",
      "naturais/np-biodiversidade/np-index-herbariorum-brasiliensium\n",
      "/np-indice-de-nomes-geograficos-volume-1-bcim\n",
      "mbientais/np-estatisticas-e-indicadores-ambientais/np-informacao-geografica\n",
      "e-transporte\n",
      "omologacao-de-estacoes-estabelecidas-por-outras-instituicoes\n",
      "naturais/np-biodiversidade/np-inventario-da-biodiversidade-do-bioma-cerrado\n",
      "s/np-ligacoes-aereas\n",
      "s/np-rodoviarias-e-hidroviarias\n",
      "gia\n",
      "nsportes\n",
      "mbientais/np-estudos-integrados/np-macrozoneamento-geoambiental-do-estado-de-mato-grosso-do-sul\n",
      "malhas\n",
      "naturais/np-geologia/np-manual-tecnico-em-geociencias\n",
      "\n",
      "s-dos-estados\n",
      "\n",
      "tado-do-acre\n",
      "\n",
      "\n",
      "cos-dos-estados\n",
      "\n",
      "memoria-institucional\n",
      "\n",
      "to-geodesico/np-modelo-de-ondulacao-geoidal\n",
      "\n",
      "a-continental-e-do-fundo-dos-oceanos\n",
      "-e-uso-da-terra/np-mudancas-na-cobertura-e-uso-da-terra/np-mudancas-na-cobertura-e-uso-da-terra\n",
      "mbientais/np-estudos-integrados/np-n-2-relatorio-piloto-com-aplicacao-da-metodologia-ipps-ao-estado-do-rio-de-janeiro\n",
      "/np-nocoes-cartograficas-para-base-operacional-geografica\n",
      "instalacao-de-estacoes-de-monitoramento-continuo-gnss-compativeis-com-a-rbmc\n",
      "\n",
      "arcos-geodesicos\n",
      "naturais/np-pedologia/np-pedologia\n",
      "naturais/np-pedologia/np-pedologia-do-estado-de-ro-rr-to-ac-am-ap-ma-mt-pa-e-rs\n",
      "/np-ponto-de-referencia\n",
      "naturais/np-climatologia/np-potencial-de-agressividade-climatica-na-amazonia-legal\n",
      "-e-uso-da-terra/np-mapeamento-de-cobertura-e-uso-da-terra/np-potencial-florestal-do-estado-de-ro-ac-am-ap-e-pa\n",
      "referencial-geodesico-pmrg\n",
      "imetrica\n",
      "sileira-de-monitoramento-continuo-dos-sistemas-gnss-rbmc\n",
      "to-geodesico/np-rbmc-ip-rede-brasileira-de-monitoramento-continuo-dos-sistemas-gnss-em-tempo-real\n",
      "vimetrica\n",
      "egrafica-permanente-para-geodesia-rmpg\n",
      "nialtimetrica\n",
      "lacao-urbana\n",
      "s/np-regioes-de-influencia-das-cidades\n",
      "regioes-metropolitanas-aglomeracoes-urbanas-e-regioes-integradas-de-desenvolvimento\n",
      "\n",
      "naturais/np-biodiversidade/np-reserva-ecologica-do-ibge-biodiversidade-terrestre\n",
      "naturais/np-biodiversidade/np-reserva-ecologica-do-ibge-em-brasilia-df\n",
      "ileiro\n",
      "to-geodesico/np-servico-online-para-pos-processamento-de-dados-gnss-ibge-ppp\n",
      "np-sistema-nacional-de-nivelamento-de-1-ordem\n",
      "naturais/np-pedologia/np-solos\n",
      "np-tabelas-para-calculos-no-sistema-de-projecao-universal-transverso-de-mercator-utm\n",
      "np-termino-do-periodo-de-transicao-para-adocao-no-brasil-do-sirgas2000\n",
      "indigenas-nos-biomas-brasileiros\n",
      "np-tipologia-intraurbana-espacos-de-diferenciacao-socioeconomica-nas-concentracoes-urbanas-do-brasil\n",
      "to-geodesico/np-progrid\n",
      "naturais/np-geomorfologia/np-unidades-de-relevo\n",
      "-e-uso-da-terra/np-mapeamento-de-cobertura-e-uso-da-terra/np-uso-da-terra\n",
      "naturais/np-vegetacao/np-vegetacao\n",
      "-informacoes\n",
      "mbientais/np-estudos-integrados/np-vocabulario-basico-de-recursos-naturais-e-meio-ambiente\n",
      "mbientais/np-estudos-integrados/np-zee-amazonia-legal\n",
      "-zoneamento-ecologico-economico-do-delta-do-parnaiba-dimensao-urbano-regional\n",
      "mbientais/np-estudos-integrados/np-zoneamentos-geoambientais\n"
     ]
    }
   ],
   "source": [
    "tt = pd.DataFrame(ibge.gerar_links_geociencias()) "
   ]
  },
  {
   "cell_type": "code",
   "execution_count": 9,
   "metadata": {},
   "outputs": [
    {
     "data": {
      "text/plain": [
       "'https://www.ibge.gov.br/geociencias-novoportal/organizacao-do-territorio/analises-do-territorio/novo-portal/geociencias/np-informacoes-sobre-organizacao-do-territorio/np-analises-do-territorio/np-a-geografia-da-cana-de-acucar-a-geografia-da-cana-de-acucar.html'"
      ]
     },
     "execution_count": 9,
     "metadata": {},
     "output_type": "execute_result"
    }
   ],
   "source": [
    "tt[0][0]"
   ]
  }
 ],
 "metadata": {
  "kernelspec": {
   "display_name": "Python 3",
   "language": "python",
   "name": "python3"
  },
  "language_info": {
   "codemirror_mode": {
    "name": "ipython",
    "version": 3
   },
   "file_extension": ".py",
   "mimetype": "text/x-python",
   "name": "python",
   "nbconvert_exporter": "python",
   "pygments_lexer": "ipython3",
   "version": "3.6.3"
  }
 },
 "nbformat": 4,
 "nbformat_minor": 2
}
